{
 "cells": [
  {
   "cell_type": "markdown",
   "metadata": {},
   "source": [
    "# Dreadnode Video Logging\n",
    "\n",
    "This notebook demonstrates how to log video data using Dreadnode's `Video` data type. The examples cover various video sources including file paths, numpy arrays for frame sequences, and MoviePy video clips.\n",
    "\n",
    "## Features\n",
    "\n",
    "- Log videos from file paths (MP4, MOV, etc.)\n",
    "- Create and log videos from sequences of numpy array frames\n",
    "- Log MoviePy video clip objects\n",
    "- Control video properties like frame rate, dimensions and format"
   ]
  },
  {
   "cell_type": "code",
   "execution_count": null,
   "metadata": {},
   "outputs": [
    {
     "name": "stderr",
     "output_type": "stream",
     "text": [
      "/Users/raja/Desktop/dreadnode/projects/sdk/.venv/lib/python3.12/site-packages/pydub/utils.py:170: RuntimeWarning: Couldn't find ffmpeg or avconv - defaulting to ffmpeg, but may not work\n",
      "  warn(\"Couldn't find ffmpeg or avconv - defaulting to ffmpeg, but may not work\", RuntimeWarning)\n"
     ]
    }
   ],
   "source": [
    "import dreadnode as dn\n",
    "\n",
    "dn.configure(\n",
    "    server=\"Your Dreadnode API\", # Replace with your server address\n",
    "    token=\"Your Dreadnode API Key\", # Replace with your token\n",
    "    project=\"video-examples\"\n",
    ")"
   ]
  },
  {
   "cell_type": "markdown",
   "metadata": {},
   "source": [
    "## 1. File Path Examples\n",
    "\n",
    "The simplest way to log video is directly from file paths. Dreadnode supports common video formats like MP4, MOV, and others."
   ]
  },
  {
   "cell_type": "code",
   "execution_count": 2,
   "metadata": {},
   "outputs": [
    {
     "name": "stdout",
     "output_type": "stream",
     "text": [
      "Sample MOV created at: /var/folders/ln/f1c_19n537310md15785b6d80000gn/T/tmpa5yfwmh2.mov\n"
     ]
    }
   ],
   "source": [
    "import numpy as np\n",
    "from PIL import Image, ImageDraw\n",
    "import tempfile\n",
    "import imageio\n",
    "\n",
    "def create_sample_mov(duration=3, fps=30, width=320, height=240):\n",
    "    \"\"\"Creates a simple 3-second .mov test video with a moving rectangle.\"\"\"\n",
    "    \n",
    "    frames = []\n",
    "    total_frames = int(duration * fps)\n",
    "    \n",
    "    for i in range(total_frames):\n",
    "        img = Image.new('RGB', (width, height), color=(0, 0, 0))\n",
    "        draw = ImageDraw.Draw(img)\n",
    "        \n",
    "        x_pos = int((i / total_frames) * (width - 60))\n",
    "        y_pos = int((i / total_frames) * (height - 60))\n",
    "        r = int(255 * (1 - i / total_frames))\n",
    "        b = int(255 * (i / total_frames))\n",
    "        \n",
    "        draw.rectangle([x_pos, y_pos, x_pos + 60, y_pos + 60], fill=(r, 100, b))\n",
    "        draw.text((10, 10), f\"Frame {i}\", fill=(255, 255, 255))\n",
    "        \n",
    "        frames.append(np.array(img))\n",
    "    \n",
    "    temp_file = tempfile.NamedTemporaryFile(suffix='.mov', delete=False)\n",
    "    temp_file.close()\n",
    "    \n",
    "    imageio.mimwrite(temp_file.name, frames, fps=fps, codec='libx264', \n",
    "                    quality=7, pixelformat='yuv420p')\n",
    "    \n",
    "    return temp_file.name\n",
    "\n",
    "\n",
    "video_file_path = create_sample_mov()\n",
    "print(f\"Sample MOV created at: {video_file_path}\")"
   ]
  },
  {
   "cell_type": "code",
   "execution_count": 3,
   "metadata": {},
   "outputs": [
    {
     "name": "stdout",
     "output_type": "stream",
     "text": [
      "21:41:38.956 video_file_examples\n"
     ]
    },
    {
     "name": "stderr",
     "output_type": "stream",
     "text": [
      "/Users/raja/Desktop/dreadnode/projects/sdk/.venv/lib/python3.12/site-packages/tqdm/auto.py:21: TqdmWarning: IProgress not found. Please update jupyter and ipywidgets. See https://ipywidgets.readthedocs.io/en/stable/user_install.html\n",
      "  from .autonotebook import tqdm as notebook_tqdm\n"
     ]
    }
   ],
   "source": [
    "import dreadnode as dn\n",
    "from dreadnode import Video\n",
    "\n",
    "with dn.run(\"video_file_examples\") as r:\n",
    "    dn.log_input(\"video_file\", Video(\n",
    "        video_file_path,\n",
    "        caption=\"Basic video file example\"\n",
    "    ))\n",
    "    \n",
    "    dn.log_input(\"format_override\", Video(\n",
    "        video_file_path,\n",
    "        format=\"mp4\",\n",
    "        caption=\"MOV file with MP4 format override\"\n",
    "    ))\n",
    "    \n",
    "    dn.log_input(\"dimension_override\", Video(\n",
    "        video_file_path,\n",
    "        width=1280,\n",
    "        height=720,\n",
    "        caption=\"Video with dimension specifications\"\n",
    "    ))"
   ]
  },
  {
   "cell_type": "markdown",
   "metadata": {},
   "source": [
    "## 2. Numpy Array Frames\n",
    "\n",
    "You can create videos from numpy arrays representing individual frames. This is useful for visualizing generated content, simulations, or processing results."
   ]
  },
  {
   "cell_type": "code",
   "execution_count": 4,
   "metadata": {},
   "outputs": [
    {
     "name": "stdout",
     "output_type": "stream",
     "text": [
      "21:41:39.210 video_numpy_examples\n",
      "MoviePy - Building video /var/folders/ln/f1c_19n537310md15785b6d80000gn/T/tmp26q9pf3i.mp4.\n",
      "MoviePy - Writing video /var/folders/ln/f1c_19n537310md15785b6d80000gn/T/tmp26q9pf3i.mp4\n",
      "\n"
     ]
    },
    {
     "name": "stderr",
     "output_type": "stream",
     "text": [
      "                                                            "
     ]
    },
    {
     "name": "stdout",
     "output_type": "stream",
     "text": [
      "MoviePy - Done !\n",
      "MoviePy - video ready /var/folders/ln/f1c_19n537310md15785b6d80000gn/T/tmp26q9pf3i.mp4\n"
     ]
    },
    {
     "name": "stderr",
     "output_type": "stream",
     "text": [
      "\r"
     ]
    }
   ],
   "source": [
    "import numpy as np\n",
    "\n",
    "with dn.run(\"video_numpy_examples\") as r:\n",
    "    frame = np.ones((120, 160, 3), dtype=np.uint8) * 200  # Gray background\n",
    "    \n",
    "    frame[40:80, 60:100] = [255, 0, 0]  # Red rectangle\n",
    "    \n",
    "    static_frames = [frame.copy() for _ in range(3)]\n",
    "    \n",
    "    dn.log_input(\"static_video\", Video(\n",
    "        static_frames,\n",
    "        fps=5,  # 5 frames per second\n",
    "        format=\"mp4\",\n",
    "        caption=\"Static video with 3 identical frames\"\n",
    "    ))"
   ]
  },
  {
   "cell_type": "markdown",
   "metadata": {},
   "source": [
    "## 3. MoviePy Video Clips\n",
    "\n",
    "MoviePy is a popular library for video editing in Python. Dreadnode supports logging VideoClip objects directly."
   ]
  },
  {
   "cell_type": "code",
   "execution_count": 5,
   "metadata": {},
   "outputs": [
    {
     "name": "stdout",
     "output_type": "stream",
     "text": [
      "21:41:39.235 video_moviepy_examples\n",
      "{'video_found': True, 'audio_found': False, 'metadata': {'major_brand': 'qt', 'minor_version': '512', 'compatible_brands': 'qt', 'encoder': 'Lavf61.7.100'}, 'inputs': [{'streams': [{'input_number': 0, 'stream_number': 0, 'stream_type': 'video', 'language': None, 'default': True, 'size': [320, 240], 'bitrate': 46, 'fps': 30.0, 'codec_name': 'h264', 'profile': '(High)', 'metadata': {'Metadata': '', 'handler_name': 'VideoHandler', 'vendor_id': 'FFMP', 'encoder': 'Lavc61.19.100 libx264'}}], 'input_number': 0}], 'duration': 3.0, 'bitrate': 51, 'start': 0.0, 'default_video_input_number': 0, 'default_video_stream_number': 0, 'video_codec_name': 'h264', 'video_profile': '(High)', 'video_size': [320, 240], 'video_bitrate': 46, 'video_fps': 30.0, 'video_duration': 3.0, 'video_n_frames': 90}\n",
      "/Users/raja/Desktop/dreadnode/projects/sdk/.venv/lib/python3.12/site-packages/imageio_ffmpeg/binaries/ffmpeg-macos-aarch64-v7.1 -i /var/folders/ln/f1c_19n537310md15785b6d80000gn/T/tmpa5yfwmh2.mov -loglevel error -f image2pipe -vf scale=320:240 -sws_flags bicubic -pix_fmt rgb24 -vcodec rawvideo -\n",
      "MoviePy - Building video /var/folders/ln/f1c_19n537310md15785b6d80000gn/T/tmpx47gkl1c.mp4.\n",
      "MoviePy - Writing video /var/folders/ln/f1c_19n537310md15785b6d80000gn/T/tmpx47gkl1c.mp4\n",
      "\n"
     ]
    },
    {
     "name": "stderr",
     "output_type": "stream",
     "text": [
      "                                                             "
     ]
    },
    {
     "name": "stdout",
     "output_type": "stream",
     "text": [
      "MoviePy - Done !\n",
      "MoviePy - video ready /var/folders/ln/f1c_19n537310md15785b6d80000gn/T/tmpx47gkl1c.mp4\n"
     ]
    },
    {
     "name": "stderr",
     "output_type": "stream",
     "text": [
      "\r"
     ]
    }
   ],
   "source": [
    "from moviepy.video.io.VideoFileClip import VideoFileClip\n",
    "\n",
    "with dn.run(\"video_moviepy_examples\") as r:\n",
    "    video_clip = VideoFileClip(video_file_path)\n",
    "    \n",
    "    dn.log_input(\"moviepy_full\", Video(\n",
    "        video_clip,\n",
    "        caption=\"Full video loaded with MoviePy\"\n",
    "    ))\n",
    "    \n",
    "    try:\n",
    "        if hasattr(video_clip, 'subclip'):\n",
    "            first_5_seconds = video_clip.subclip(0, 5)\n",
    "            dn.log_input(\"moviepy_clip\", Video(\n",
    "                first_5_seconds,\n",
    "                caption=\"First 5 seconds of video\"\n",
    "            ))\n",
    "    except Exception as e:\n",
    "        print(f\"Subclip not supported in this MoviePy version: {e}\")\n",
    "    \n",
    "    # Clean up resources\n",
    "    video_clip.close()"
   ]
  },
  {
   "cell_type": "markdown",
   "metadata": {},
   "source": [
    "## Clean it up"
   ]
  },
  {
   "cell_type": "code",
   "execution_count": 6,
   "metadata": {},
   "outputs": [],
   "source": [
    "import os\n",
    "os.unlink(video_file_path)"
   ]
  },
  {
   "cell_type": "markdown",
   "metadata": {},
   "source": [
    "## Summary\n",
    "\n",
    "This notebook demonstrated how to log videos in Dreadnode from various sources:\n",
    "\n",
    "1. Direct file paths (MP4, MOV, etc.)\n",
    "2. Numpy arrays representing frame sequences\n",
    "3. MoviePy VideoClip objects\n"
   ]
  }
 ],
 "metadata": {
  "kernelspec": {
   "display_name": ".venv",
   "language": "python",
   "name": "python3"
  },
  "language_info": {
   "codemirror_mode": {
    "name": "ipython",
    "version": 3
   },
   "file_extension": ".py",
   "mimetype": "text/x-python",
   "name": "python",
   "nbconvert_exporter": "python",
   "pygments_lexer": "ipython3",
   "version": "3.12.7"
  }
 },
 "nbformat": 4,
 "nbformat_minor": 2
}
