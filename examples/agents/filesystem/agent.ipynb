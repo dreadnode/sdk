{
 "cells": [
  {
   "cell_type": "code",
   "execution_count": null,
   "id": "aac9ccc8",
   "metadata": {},
   "outputs": [],
   "source": [
    "# Import relevant stuff\n",
    "import dreadnode\n",
    "from dreadnode.agent import Agent\n",
    "from dreadnode.agent.tools import fs\n",
    "from dreadnode.agent.events import on_event, AgentStart\n",
    "from dreadnode.agent.conditions import when\n",
    "from dreadnode.scorers import contains\n",
    "\n",
    "from rich import print"
   ]
  },
  {
   "cell_type": "code",
   "execution_count": 2,
   "id": "16c00b80",
   "metadata": {},
   "outputs": [
    {
     "data": {
      "text/html": [
       "<pre style=\"white-space:pre;overflow-x:auto;line-height:normal;font-family:Menlo,'DejaVu Sans Mono',consolas,'Courier New',monospace\">Dreadnode logging to <span style=\"color: #ff5f00; text-decoration-color: #ff5f00; text-decoration: underline\">https://platform.dreadnode.io</span> <span style=\"font-weight: bold\">(</span>environment vars<span style=\"font-weight: bold\">)</span>\n",
       "</pre>\n"
      ],
      "text/plain": [
       "Dreadnode logging to \u001b[4;38;5;202mhttps://platform.dreadnode.io\u001b[0m \u001b[1m(\u001b[0menvironment vars\u001b[1m)\u001b[0m\n"
      ]
     },
     "metadata": {},
     "output_type": "display_data"
    }
   ],
   "source": [
    "# Login to Dreadnode platform\n",
    "dreadnode.configure(server=\"https://platform.dreadnode.io\")"
   ]
  },
  {
   "cell_type": "code",
   "execution_count": 3,
   "id": "6363d5b0",
   "metadata": {},
   "outputs": [],
   "source": [
    "# Create a filesystem tool in read-only mode\n",
    "filesystem = fs.Filesystem(path=\"~/projects/sdk\", mode=\"read-only\")"
   ]
  },
  {
   "cell_type": "code",
   "execution_count": 4,
   "id": "cb780366",
   "metadata": {},
   "outputs": [],
   "source": [
    "# Create some instructions for the agent\n",
    "instructions = \"\"\"\n",
    "Your task is to analyze files for sensitive data\n",
    "such as credentials, personal information, and security-related data. You have permission to\n",
    "access and analyze all files within this isolated environment.\n",
    "\"\"\""
   ]
  },
  {
   "cell_type": "code",
   "execution_count": null,
   "id": "17474067",
   "metadata": {},
   "outputs": [],
   "source": [
    "# Add an important event listener to monitor the agent's actions\n",
    "@on_event(event_type=AgentStart, condition=when(str).satisfies(contains(\" \")) == True)\n",
    "async def log_state(agent):\n",
    "    print(agent.model_dump())"
   ]
  },
  {
   "cell_type": "code",
   "execution_count": 6,
   "id": "42e9643d",
   "metadata": {},
   "outputs": [],
   "source": [
    "# Build the Agent\n",
    "agent = Agent(\n",
    "    name=\"Filesystem Enum Agent\",\n",
    "    description=\"An agent that enumerates a filesystem.\",\n",
    "    instructions=instructions,\n",
    "    model=\"groq/meta-llama/llama-4-maverick-17b-128e-instruct\",\n",
    "    hooks=[log_state],\n",
    "    judge=None,\n",
    "    tools=[fs.Filesystem(path=\".\", mode=\"read-only\")],\n",
    ")"
   ]
  },
  {
   "cell_type": "code",
   "execution_count": 7,
   "id": "4538f388",
   "metadata": {},
   "outputs": [
    {
     "ename": "TypeError",
     "evalue": "'bool' object is not callable",
     "output_type": "error",
     "traceback": [
      "\u001b[31m---------------------------------------------------------------------------\u001b[39m",
      "\u001b[31mTypeError\u001b[39m                                 Traceback (most recent call last)",
      "\u001b[36mCell\u001b[39m\u001b[36m \u001b[39m\u001b[32mIn[7]\u001b[39m\u001b[32m, line 2\u001b[39m\n\u001b[32m      1\u001b[39m \u001b[38;5;66;03m# Run the thing\u001b[39;00m\n\u001b[32m----> \u001b[39m\u001b[32m2\u001b[39m result = \u001b[38;5;28;01mawait\u001b[39;00m agent.run(\u001b[33m\"\u001b[39m\u001b[33mReport all sensitive data you find using the provided tools.\u001b[39m\u001b[33m\"\u001b[39m)\n",
      "\u001b[36mFile \u001b[39m\u001b[32m~/projects/sdk/dreadnode/agent/agent.py:730\u001b[39m, in \u001b[36mAgent.run\u001b[39m\u001b[34m(self, user_input, thread, commit)\u001b[39m\n\u001b[32m    728\u001b[39m final_event: AgentEvent | \u001b[38;5;28;01mNone\u001b[39;00m = \u001b[38;5;28;01mNone\u001b[39;00m\n\u001b[32m    729\u001b[39m \u001b[38;5;28;01masync\u001b[39;00m \u001b[38;5;28;01mwith\u001b[39;00m \u001b[38;5;28mself\u001b[39m.stream(user_input, thread=thread, commit=commit) \u001b[38;5;28;01mas\u001b[39;00m stream:\n\u001b[32m--> \u001b[39m\u001b[32m730\u001b[39m     \u001b[38;5;28;01masync\u001b[39;00m \u001b[38;5;28;01mfor\u001b[39;00m event \u001b[38;5;129;01min\u001b[39;00m stream:\n\u001b[32m    731\u001b[39m         final_event = event\n\u001b[32m    733\u001b[39m \u001b[38;5;28;01mif\u001b[39;00m \u001b[38;5;129;01mnot\u001b[39;00m \u001b[38;5;28misinstance\u001b[39m(final_event, AgentEnd):\n",
      "\u001b[36mFile \u001b[39m\u001b[32m~/projects/sdk/dreadnode/agent/agent.py:666\u001b[39m, in \u001b[36mAgent._stream_traced\u001b[39m\u001b[34m(self, thread, user_input, commit)\u001b[39m\n\u001b[32m    664\u001b[39m \u001b[38;5;28;01mtry\u001b[39;00m:\n\u001b[32m    665\u001b[39m     \u001b[38;5;28;01masync\u001b[39;00m \u001b[38;5;28;01mwith\u001b[39;00m aclosing(\u001b[38;5;28mself\u001b[39m._stream(thread, messages, commit=commit)) \u001b[38;5;28;01mas\u001b[39;00m stream:\n\u001b[32m--> \u001b[39m\u001b[32m666\u001b[39m         \u001b[38;5;28;01masync\u001b[39;00m \u001b[38;5;28;01mfor\u001b[39;00m event \u001b[38;5;129;01min\u001b[39;00m stream:\n\u001b[32m    667\u001b[39m             last_event = event\n\u001b[32m    668\u001b[39m             \u001b[38;5;28mself\u001b[39m._log_event_metrics(event)\n",
      "\u001b[36mFile \u001b[39m\u001b[32m~/projects/sdk/dreadnode/agent/agent.py:449\u001b[39m, in \u001b[36mAgent._stream\u001b[39m\u001b[34m(self, thread, messages, commit)\u001b[39m\n\u001b[32m    445\u001b[39m         \u001b[38;5;28;01myield\u001b[39;00m event\n\u001b[32m    447\u001b[39m \u001b[38;5;66;03m# Agent start\u001b[39;00m\n\u001b[32m--> \u001b[39m\u001b[32m449\u001b[39m \u001b[38;5;28;01masync\u001b[39;00m \u001b[38;5;28;01mfor\u001b[39;00m event \u001b[38;5;129;01min\u001b[39;00m _dispatch(\n\u001b[32m    450\u001b[39m     AgentStart(\n\u001b[32m    451\u001b[39m         agent=\u001b[38;5;28mself\u001b[39m,\n\u001b[32m    452\u001b[39m         thread=thread,\n\u001b[32m    453\u001b[39m         messages=messages,\n\u001b[32m    454\u001b[39m         events=events,\n\u001b[32m    455\u001b[39m     )\n\u001b[32m    456\u001b[39m ):\n\u001b[32m    457\u001b[39m     \u001b[38;5;28;01myield\u001b[39;00m event\n\u001b[32m    459\u001b[39m \u001b[38;5;66;03m# Core step loop\u001b[39;00m\n",
      "\u001b[36mFile \u001b[39m\u001b[32m~/projects/sdk/dreadnode/agent/agent.py:305\u001b[39m, in \u001b[36mAgent._stream.<locals>._dispatch\u001b[39m\u001b[34m(event)\u001b[39m\n\u001b[32m    303\u001b[39m     reaction = hook(event)  \u001b[38;5;66;03m# type: ignore[assignment]\u001b[39;00m\n\u001b[32m    304\u001b[39m     \u001b[38;5;28;01mif\u001b[39;00m inspect.isawaitable(reaction):\n\u001b[32m--> \u001b[39m\u001b[32m305\u001b[39m         reaction = t.cast(\u001b[33m\"\u001b[39m\u001b[33mReaction\u001b[39m\u001b[33m\"\u001b[39m, \u001b[38;5;28;01mawait\u001b[39;00m reaction)\n\u001b[32m    306\u001b[39m \u001b[38;5;28;01mexcept\u001b[39;00m Reaction \u001b[38;5;28;01mas\u001b[39;00m r:\n\u001b[32m    307\u001b[39m     reaction = r\n",
      "\u001b[36mFile \u001b[39m\u001b[32m~/projects/sdk/dreadnode/agent/events.py:60\u001b[39m, in \u001b[36mon_event.<locals>.decorator.<locals>.wrapper\u001b[39m\u001b[34m(event)\u001b[39m\n\u001b[32m     57\u001b[39m \u001b[38;5;28;01mif\u001b[39;00m \u001b[38;5;129;01mnot\u001b[39;00m \u001b[38;5;28misinstance\u001b[39m(event, event_type):\n\u001b[32m     58\u001b[39m     \u001b[38;5;28;01mreturn\u001b[39;00m \u001b[38;5;28;01mNone\u001b[39;00m\n\u001b[32m---> \u001b[39m\u001b[32m60\u001b[39m \u001b[38;5;28;01mif\u001b[39;00m condition \u001b[38;5;129;01mis\u001b[39;00m \u001b[38;5;129;01mnot\u001b[39;00m \u001b[38;5;28;01mNone\u001b[39;00m \u001b[38;5;129;01mand\u001b[39;00m \u001b[38;5;129;01mnot\u001b[39;00m \u001b[43mcondition\u001b[49m\u001b[43m(\u001b[49m\u001b[43mevent\u001b[49m\u001b[43m)\u001b[49m:\n\u001b[32m     61\u001b[39m     \u001b[38;5;28;01mreturn\u001b[39;00m \u001b[38;5;28;01mNone\u001b[39;00m\n\u001b[32m     63\u001b[39m \u001b[38;5;28;01mreturn\u001b[39;00m \u001b[38;5;28;01mawait\u001b[39;00m func(event)\n",
      "\u001b[31mTypeError\u001b[39m: 'bool' object is not callable"
     ]
    }
   ],
   "source": [
    "# Run the thing\n",
    "result = await agent.run(\"Report all sensitive data you find using the provided tools.\")"
   ]
  },
  {
   "cell_type": "code",
   "execution_count": null,
   "id": "e039c827",
   "metadata": {},
   "outputs": [],
   "source": [
    "# View output\n",
    "print(result.messages)"
   ]
  },
  {
   "cell_type": "code",
   "execution_count": null,
   "id": "ddf4c4d1",
   "metadata": {},
   "outputs": [],
   "source": []
  }
 ],
 "metadata": {
  "kernelspec": {
   "display_name": "dreadnode",
   "language": "python",
   "name": "python3"
  },
  "language_info": {
   "codemirror_mode": {
    "name": "ipython",
    "version": 3
   },
   "file_extension": ".py",
   "mimetype": "text/x-python",
   "name": "python",
   "nbconvert_exporter": "python",
   "pygments_lexer": "ipython3",
   "version": "3.12.10"
  }
 },
 "nbformat": 4,
 "nbformat_minor": 5
}
