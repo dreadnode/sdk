{
 "cells": [
  {
   "cell_type": "markdown",
   "metadata": {},
   "source": [
    "# Dreadnode Artifact Logging\n",
    "\n",
    "This notebook demonstrates how to log artifacts (files and directories) to your Dreadnode platform projects. Artifacts are preserved with their original structure and can be used to track assets.\n",
    "\n",
    "### Benefits of Artifact Logging\n",
    "Artifact logging provides several key benefits for your workflow:\n",
    "\n",
    "- **Reproducibility**: Ensure your runs can reference the exact files used.\n",
    "- **Organization**: Maintain the structure of complex file hierarchies.\n",
    "- **Efficiency**: Content-based deduplication saves storage space.\n",
    "- **Traceability**: Connect inputs, outputs, and code in one place.\n"
   ]
  },
  {
   "cell_type": "code",
   "execution_count": null,
   "metadata": {},
   "outputs": [
    {
     "name": "stderr",
     "output_type": "stream",
     "text": [
      "\u001b[1mLogfire\u001b[0m project URL: \u001b]8;id=725195;https://logfire-us.pydantic.dev/raja/starter-project\u001b\\\u001b[4;36mhttps://logfire-us.pydantic.dev/raja/starter-project\u001b[0m\u001b]8;;\u001b\\\n"
     ]
    }
   ],
   "source": [
    "from dreadnode import (\n",
    "    configure, run, log_artifact\n",
    ")\n",
    "\n",
    "configure(\n",
    "    server=\"<YOUR DREADNODE PLATFORM URI>\", # Replace with your server\n",
    "    token=\"<YOUR API KEY>\", # Replace with your token\n",
    "    send_to_logfire=True,\n",
    "    project=\"log-artifact\"\n",
    ")"
   ]
  },
  {
   "cell_type": "markdown",
   "metadata": {},
   "source": [
    "## Logging Entire Directory as an Artifact\n",
    "When you log a directory, Dreadnode SDK will preserve the entire directory structure and all files within it. This could be useful for keeping track of datasets, model checkpoints, or collections of related files in a project."
   ]
  },
  {
   "cell_type": "code",
   "execution_count": 3,
   "metadata": {},
   "outputs": [
    {
     "name": "stdout",
     "output_type": "stream",
     "text": [
      "05:11:24.228 wise-buzzard-624\n"
     ]
    }
   ],
   "source": [
    "# Path to the directory we want to log\n",
    "dir_path = \"../../../data\" # Replace with your directory path\n",
    "\n",
    "# Log the directory as an artifact\n",
    "with run() as r:\n",
    "    log_artifact(dir_path)"
   ]
  },
  {
   "cell_type": "markdown",
   "metadata": {},
   "source": [
    "## Logging a Single File as an Artifact\n",
    "For individual files like pkl, image, or standalone models, you can log them directly:"
   ]
  },
  {
   "cell_type": "code",
   "execution_count": 4,
   "metadata": {},
   "outputs": [
    {
     "name": "stdout",
     "output_type": "stream",
     "text": [
      "05:21:07.327 versatile-moth-829\n"
     ]
    }
   ],
   "source": [
    "# Path to an individual file\n",
    "file_path = \"../../../data/model.pkl\" # Replace with your file path\n",
    "\n",
    "# Log the file as an artifact\n",
    "with run() as r:\n",
    "    artifact = log_artifact(file_path)\n",
    "    "
   ]
  },
  {
   "cell_type": "markdown",
   "metadata": {},
   "source": [
    "### Example of logging multiple artifacts in the same run\n",
    "\n",
    "Dreadnode's artifact logging intelligently handles overlapping directories. This is particularly useful when logging multiple related directories in the same run.\n",
    "\n",
    "Let's consider a file structure like this:\n",
    "```bash\n",
    "data/\n",
    "└── audio/\n",
    "    ├── subaudio/\n",
    "    │   ├── file_example_MP3_2MG.mp3\n",
    "    │   └── file_example_WAV_2MG.wav\n",
    "    ├── subaudio2/\n",
    "    │   └── file_example_OOG_2MG.ogg\n",
    "    └── copied/\n",
    "        ├── subaudio/\n",
    "        │   ├── file_example_MP3_2MG.mp3\n",
    "        │   └── file_example_WAV_2MG.wav\n",
    "        └── subaudio2/\n",
    "            └── file_example_OOG_2MG.ogg\n",
    "```\n",
    "When logging these directories, Dreadnode intelligently merges and deduplicates:"
   ]
  },
  {
   "cell_type": "code",
   "execution_count": 2,
   "metadata": {},
   "outputs": [
    {
     "name": "stdout",
     "output_type": "stream",
     "text": [
      "05:32:48.543 Smart Directory Merging\n",
      "Number of root artifacts: 1\n",
      "Root directory: /Users/raja/Desktop/dreadnode/data/audio\n",
      "Children: .DS_Store, subaudio, copied, subaudio2\n"
     ]
    }
   ],
   "source": [
    "import json\n",
    "\n",
    "# Define our paths\n",
    "file_path_subaudio2 = \"../../../data/audio/subaudio2\"\n",
    "file_path_subaudio = \"../../../data/audio/subaudio\"\n",
    "file_path_audio = \"../../../data/audio\"\n",
    "file_path_copied = \"../../../data/audio/copied\"\n",
    "\n",
    "# Log in different orders to see the intelligent merging\n",
    "with run(\"Smart Directory Merging\") as r:\n",
    "    # First log sub-directories, then parent directory\n",
    "    artifact1 = log_artifact(file_path_subaudio2)\n",
    "    artifact2 = log_artifact(file_path_subaudio)\n",
    "    artifact3 = log_artifact(file_path_audio)    # Will merge previous two artifacts\n",
    "    artifact4 = log_artifact(file_path_copied)   # Will be merged as a subdirectory\n",
    "    \n",
    "    # Get the final artifact trees\n",
    "    print(f\"Number of root artifacts: {len(r._artifacts)}\")\n",
    "    \n",
    "    # Print first level of directories\n",
    "    for artifact in r._artifacts:\n",
    "        children = [child[\"dir_path\"].split(\"/\")[-1] if child[\"type\"] == \"dir\" \n",
    "                  else child[\"final_real_path\"].split(\"/\")[-1] \n",
    "                  for child in artifact[\"children\"]]\n",
    "        print(f\"Root directory: {artifact['dir_path']}\")\n",
    "        print(f\"Children: {', '.join(children)}\")"
   ]
  },
  {
   "cell_type": "markdown",
   "metadata": {},
   "source": [
    "### Examining the Order-Dependent Scenario\n",
    "Let's look more closely at our example of logging subdirectories before parent directories:"
   ]
  },
  {
   "cell_type": "code",
   "execution_count": 6,
   "metadata": {},
   "outputs": [
    {
     "name": "stdout",
     "output_type": "stream",
     "text": [
      "05:23:28.303 Mixed Directories\n"
     ]
    }
   ],
   "source": [
    "# Example 3: Mixed independent directories\n",
    "with run(\"Mixed Directories\") as r:\n",
    "    log_artifact(file_path_subaudio)  # Independent subdirectory\n",
    "    log_artifact(file_path_copied)    # Independent different subdirectory\n",
    "    \n",
    "    # Result: Two separate trees, no merging\n",
    "    "
   ]
  },
  {
   "cell_type": "markdown",
   "metadata": {},
   "source": []
  }
 ],
 "metadata": {
  "kernelspec": {
   "display_name": ".venv",
   "language": "python",
   "name": "python3"
  },
  "language_info": {
   "codemirror_mode": {
    "name": "ipython",
    "version": 3
   },
   "file_extension": ".py",
   "mimetype": "text/x-python",
   "name": "python",
   "nbconvert_exporter": "python",
   "pygments_lexer": "ipython3",
   "version": "3.12.7"
  }
 },
 "nbformat": 4,
 "nbformat_minor": 2
}
