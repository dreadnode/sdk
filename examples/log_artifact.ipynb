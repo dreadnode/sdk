{
 "cells": [
  {
   "cell_type": "markdown",
   "metadata": {},
   "source": [
    "# Logging Artifacts\n",
    "\n",
    "This notebook demonstrates how to log artifacts (files and directories) to your Dreadnode platform project runs. Artifacts are preserved with their original structure and can be used to track and version data, models, papers, and other file-based assets.\n",
    "\n",
    "### Benefits of Artifact Logging\n",
    "Artifact logging provides several key benefits for your workflow:\n",
    "\n",
    "Reproducibility: Ensure your runs can reference the exact files used\n",
    "Organization: Maintain the structure of complex file hierarchies\n",
    "Efficiency: Content-based deduplication saves storage space\n",
    "Traceability: Connect inputs, outputs, and code in one place\n",
    "\n",
    "### Setup\n",
    "First, we need to import the necessary functions and configure our Dreadnode environment, providing your API Key"
   ]
  },
  {
   "cell_type": "code",
   "execution_count": null,
   "metadata": {},
   "outputs": [],
   "source": [
    "from dreadnode import (\n",
    "    configure, run, task, log_inputs, log_output, log_params, log_metric, scorer, log_artifact\n",
    ")\n",
    "\n",
    "configure(\n",
    "    server=\"http://localhost:8000\",\n",
    "    token=\"GkQ-Mxmm45PhTpCaLC-RnS2YqV_JncKD\",\n",
    "    send_to_logfire=True,\n",
    "    project=\"log-artifact\"\n",
    ")"
   ]
  },
  {
   "cell_type": "markdown",
   "metadata": {},
   "source": [
    "## Logging a Directory as an Artifact\n",
    "When you log a directory, Dreadnode will preserve the entire directory structure and all files within it. This is useful for keeping track of datasets, model checkpoints, or collections of related files."
   ]
  },
  {
   "cell_type": "code",
   "execution_count": null,
   "metadata": {},
   "outputs": [],
   "source": [
    "# Path to the directory we want to log\n",
    "file_path = \"/Users/raja/Desktop/dreadnode/data\"\n",
    "\n",
    "# Log the directory as an artifact\n",
    "with run() as r:\n",
    "    artifact_tree = log_artifact(file_path)\n",
    "    print(f\"Logged directory with {len(artifact_tree['children'])} files/subdirectories\")"
   ]
  },
  {
   "cell_type": "markdown",
   "metadata": {},
   "source": [
    "### Logging a Single File as an Artifact\n",
    "For individual files like pkl, image, or standalone models, you can log them directly:"
   ]
  },
  {
   "cell_type": "code",
   "execution_count": null,
   "metadata": {},
   "outputs": [],
   "source": [
    "# Path to an individual file\n",
    "file_path = \"/Users/raja/Desktop/dreadnode/papers/2501.16671v1.pdf\"\n",
    "\n",
    "# Log the file as an artifact\n",
    "with run() as r:\n",
    "    artifact = log_artifact(file_path)\n",
    "    \n",
    "    # Access file metadata\n",
    "    file_node = artifact['children'][0]\n",
    "    print(f\"Logged file: {file_node['name']}\")\n",
    "    print(f\"File size: {file_node['size_bytes'] / 1024 / 1024:.2f} MB\")\n",
    "    print(f\"File type: {file_node['mime_type']}\")"
   ]
  },
  {
   "cell_type": "markdown",
   "metadata": {},
   "source": [
    "### Example of logging multiple artifacts in the same run"
   ]
  },
  {
   "cell_type": "code",
   "execution_count": null,
   "metadata": {},
   "outputs": [],
   "source": [
    "with run(\"Multi-artifact experiment\") as r:\n",
    "    # Log a dataset\n",
    "    dataset_path = \"/Users/raja/Desktop/dreadnode/data/dataset\"\n",
    "    dataset_artifact = log_artifact(dataset_path)\n",
    "    \n",
    "    # Log a model file\n",
    "    model_path = \"/Users/raja/Desktop/dreadnode/models/model.pkl\"\n",
    "    model_artifact = log_artifact(model_path)\n",
    "    \n",
    "    # Log parameters referring to the artifacts\n",
    "    log_params(\n",
    "        dataset_name=dataset_artifact['name'],\n",
    "        model_file=model_artifact['children'][0]['name']\n",
    "    )"
   ]
  },
  {
   "cell_type": "markdown",
   "metadata": {},
   "source": []
  }
 ],
 "metadata": {
  "kernelspec": {
   "display_name": ".venv",
   "language": "python",
   "name": "python3"
  },
  "language_info": {
   "name": "python",
   "version": "3.12.7"
  }
 },
 "nbformat": 4,
 "nbformat_minor": 2
}
